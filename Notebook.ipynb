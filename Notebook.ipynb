{
 "cells": [
  {
   "cell_type": "code",
   "execution_count": 1,
   "metadata": {},
   "outputs": [],
   "source": [
    "%matplotlib inline"
   ]
  },
  {
   "cell_type": "code",
   "execution_count": 2,
   "metadata": {},
   "outputs": [],
   "source": [
    "import pandas as pd\n",
    "import matplotlib.pyplot as plt\n",
    "import numpy as np"
   ]
  },
  {
   "cell_type": "code",
   "execution_count": 3,
   "metadata": {},
   "outputs": [],
   "source": [
    "# Read the JSON file into a pandas dataframe\n",
    "url = \"https://ai-process-sandy.s3.eu-west-1.amazonaws.com/purge/deviation.json\"\n",
    "df = pd.read_json(url)"
   ]
  },
  {
   "cell_type": "code",
   "execution_count": 4,
   "metadata": {},
   "outputs": [
    {
     "name": "stdout",
     "output_type": "stream",
     "text": [
      "There are no missing values in the DataFrame.\n"
     ]
    }
   ],
   "source": [
    "if df.isnull().any().any():\n",
    "    print(\"There are missing values in the DataFrame.\")\n",
    "else:\n",
    "    print(\"There are no missing values in the DataFrame.\")"
   ]
  },
  {
   "cell_type": "code",
   "execution_count": 5,
   "metadata": {},
   "outputs": [
    {
     "data": {
      "text/html": [
       "<div>\n",
       "<style scoped>\n",
       "    .dataframe tbody tr th:only-of-type {\n",
       "        vertical-align: middle;\n",
       "    }\n",
       "\n",
       "    .dataframe tbody tr th {\n",
       "        vertical-align: top;\n",
       "    }\n",
       "\n",
       "    .dataframe thead th {\n",
       "        text-align: right;\n",
       "    }\n",
       "</style>\n",
       "<table border=\"1\" class=\"dataframe\">\n",
       "  <thead>\n",
       "    <tr style=\"text-align: right;\">\n",
       "      <th></th>\n",
       "      <th>name</th>\n",
       "      <th>gt_corners</th>\n",
       "      <th>rb_corners</th>\n",
       "      <th>mean</th>\n",
       "      <th>max</th>\n",
       "      <th>min</th>\n",
       "      <th>floor_mean</th>\n",
       "      <th>floor_max</th>\n",
       "      <th>floor_min</th>\n",
       "      <th>ceiling_mean</th>\n",
       "      <th>ceiling_max</th>\n",
       "      <th>ceiling_min</th>\n",
       "    </tr>\n",
       "  </thead>\n",
       "  <tbody>\n",
       "    <tr>\n",
       "      <th>0</th>\n",
       "      <td>Schlafzimmer</td>\n",
       "      <td>4</td>\n",
       "      <td>4</td>\n",
       "      <td>3.956313</td>\n",
       "      <td>8.562939</td>\n",
       "      <td>0.274574</td>\n",
       "      <td>3.987864</td>\n",
       "      <td>8.562939</td>\n",
       "      <td>0.274574</td>\n",
       "      <td>3.924762</td>\n",
       "      <td>8.501885</td>\n",
       "      <td>0.331494</td>\n",
       "    </tr>\n",
       "    <tr>\n",
       "      <th>1</th>\n",
       "      <td>Küche</td>\n",
       "      <td>4</td>\n",
       "      <td>4</td>\n",
       "      <td>23.019122</td>\n",
       "      <td>52.605437</td>\n",
       "      <td>0.724299</td>\n",
       "      <td>1.253103</td>\n",
       "      <td>1.897612</td>\n",
       "      <td>0.724299</td>\n",
       "      <td>44.785141</td>\n",
       "      <td>52.605437</td>\n",
       "      <td>36.880814</td>\n",
       "    </tr>\n",
       "    <tr>\n",
       "      <th>2</th>\n",
       "      <td>Bathroom</td>\n",
       "      <td>4</td>\n",
       "      <td>4</td>\n",
       "      <td>1.013833</td>\n",
       "      <td>1.950322</td>\n",
       "      <td>0.301673</td>\n",
       "      <td>0.659138</td>\n",
       "      <td>1.318714</td>\n",
       "      <td>0.301673</td>\n",
       "      <td>1.368528</td>\n",
       "      <td>1.950322</td>\n",
       "      <td>0.878106</td>\n",
       "    </tr>\n",
       "    <tr>\n",
       "      <th>3</th>\n",
       "      <td>Lounge/Diner</td>\n",
       "      <td>8</td>\n",
       "      <td>8</td>\n",
       "      <td>3.832620</td>\n",
       "      <td>18.236935</td>\n",
       "      <td>0.173307</td>\n",
       "      <td>3.600083</td>\n",
       "      <td>15.041431</td>\n",
       "      <td>0.173307</td>\n",
       "      <td>4.065157</td>\n",
       "      <td>18.236935</td>\n",
       "      <td>0.253457</td>\n",
       "    </tr>\n",
       "    <tr>\n",
       "      <th>4</th>\n",
       "      <td>Essbereich</td>\n",
       "      <td>4</td>\n",
       "      <td>4</td>\n",
       "      <td>8.017758</td>\n",
       "      <td>15.642853</td>\n",
       "      <td>0.762948</td>\n",
       "      <td>7.819446</td>\n",
       "      <td>15.399635</td>\n",
       "      <td>0.762948</td>\n",
       "      <td>8.216069</td>\n",
       "      <td>15.642853</td>\n",
       "      <td>0.909029</td>\n",
       "    </tr>\n",
       "  </tbody>\n",
       "</table>\n",
       "</div>"
      ],
      "text/plain": [
       "           name  gt_corners  rb_corners       mean        max       min  \\\n",
       "0  Schlafzimmer           4           4   3.956313   8.562939  0.274574   \n",
       "1         Küche           4           4  23.019122  52.605437  0.724299   \n",
       "2      Bathroom           4           4   1.013833   1.950322  0.301673   \n",
       "3  Lounge/Diner           8           8   3.832620  18.236935  0.173307   \n",
       "4    Essbereich           4           4   8.017758  15.642853  0.762948   \n",
       "\n",
       "   floor_mean  floor_max  floor_min  ceiling_mean  ceiling_max  ceiling_min  \n",
       "0    3.987864   8.562939   0.274574      3.924762     8.501885     0.331494  \n",
       "1    1.253103   1.897612   0.724299     44.785141    52.605437    36.880814  \n",
       "2    0.659138   1.318714   0.301673      1.368528     1.950322     0.878106  \n",
       "3    3.600083  15.041431   0.173307      4.065157    18.236935     0.253457  \n",
       "4    7.819446  15.399635   0.762948      8.216069    15.642853     0.909029  "
      ]
     },
     "execution_count": 5,
     "metadata": {},
     "output_type": "execute_result"
    }
   ],
   "source": [
    "df.head()"
   ]
  },
  {
   "cell_type": "code",
   "execution_count": 6,
   "metadata": {},
   "outputs": [
    {
     "data": {
      "text/html": [
       "<div>\n",
       "<style scoped>\n",
       "    .dataframe tbody tr th:only-of-type {\n",
       "        vertical-align: middle;\n",
       "    }\n",
       "\n",
       "    .dataframe tbody tr th {\n",
       "        vertical-align: top;\n",
       "    }\n",
       "\n",
       "    .dataframe thead th {\n",
       "        text-align: right;\n",
       "    }\n",
       "</style>\n",
       "<table border=\"1\" class=\"dataframe\">\n",
       "  <thead>\n",
       "    <tr style=\"text-align: right;\">\n",
       "      <th></th>\n",
       "      <th>name</th>\n",
       "      <th>gt_corners</th>\n",
       "      <th>rb_corners</th>\n",
       "      <th>mean</th>\n",
       "      <th>max</th>\n",
       "      <th>min</th>\n",
       "      <th>floor_mean</th>\n",
       "      <th>floor_max</th>\n",
       "      <th>floor_min</th>\n",
       "      <th>ceiling_mean</th>\n",
       "      <th>ceiling_max</th>\n",
       "      <th>ceiling_min</th>\n",
       "    </tr>\n",
       "  </thead>\n",
       "  <tbody>\n",
       "    <tr>\n",
       "      <th>1342</th>\n",
       "      <td>Master Bedroom</td>\n",
       "      <td>4</td>\n",
       "      <td>4</td>\n",
       "      <td>1.739907</td>\n",
       "      <td>4.703960</td>\n",
       "      <td>0.166677</td>\n",
       "      <td>0.487452</td>\n",
       "      <td>1.074033</td>\n",
       "      <td>0.166677</td>\n",
       "      <td>2.992362</td>\n",
       "      <td>4.703960</td>\n",
       "      <td>1.216172</td>\n",
       "    </tr>\n",
       "    <tr>\n",
       "      <th>1343</th>\n",
       "      <td>Master Bedroom 2</td>\n",
       "      <td>4</td>\n",
       "      <td>4</td>\n",
       "      <td>0.530908</td>\n",
       "      <td>0.786997</td>\n",
       "      <td>0.101973</td>\n",
       "      <td>0.323746</td>\n",
       "      <td>0.614770</td>\n",
       "      <td>0.101973</td>\n",
       "      <td>0.738071</td>\n",
       "      <td>0.786997</td>\n",
       "      <td>0.670290</td>\n",
       "    </tr>\n",
       "    <tr>\n",
       "      <th>1344</th>\n",
       "      <td>Zimmer I</td>\n",
       "      <td>4</td>\n",
       "      <td>4</td>\n",
       "      <td>0.880569</td>\n",
       "      <td>1.221873</td>\n",
       "      <td>0.362600</td>\n",
       "      <td>0.823587</td>\n",
       "      <td>1.120810</td>\n",
       "      <td>0.362600</td>\n",
       "      <td>0.937550</td>\n",
       "      <td>1.221873</td>\n",
       "      <td>0.490739</td>\n",
       "    </tr>\n",
       "    <tr>\n",
       "      <th>1345</th>\n",
       "      <td>Hallway Bathroom</td>\n",
       "      <td>6</td>\n",
       "      <td>6</td>\n",
       "      <td>24.923452</td>\n",
       "      <td>64.266820</td>\n",
       "      <td>0.064699</td>\n",
       "      <td>24.857904</td>\n",
       "      <td>64.123596</td>\n",
       "      <td>0.064699</td>\n",
       "      <td>24.988999</td>\n",
       "      <td>64.266820</td>\n",
       "      <td>0.074356</td>\n",
       "    </tr>\n",
       "    <tr>\n",
       "      <th>1346</th>\n",
       "      <td>Bedroom 4</td>\n",
       "      <td>4</td>\n",
       "      <td>4</td>\n",
       "      <td>0.387328</td>\n",
       "      <td>0.762659</td>\n",
       "      <td>0.166426</td>\n",
       "      <td>0.349720</td>\n",
       "      <td>0.730373</td>\n",
       "      <td>0.205136</td>\n",
       "      <td>0.424936</td>\n",
       "      <td>0.762659</td>\n",
       "      <td>0.166426</td>\n",
       "    </tr>\n",
       "  </tbody>\n",
       "</table>\n",
       "</div>"
      ],
      "text/plain": [
       "                  name  gt_corners  rb_corners       mean        max  \\\n",
       "1342    Master Bedroom           4           4   1.739907   4.703960   \n",
       "1343  Master Bedroom 2           4           4   0.530908   0.786997   \n",
       "1344          Zimmer I           4           4   0.880569   1.221873   \n",
       "1345  Hallway Bathroom           6           6  24.923452  64.266820   \n",
       "1346         Bedroom 4           4           4   0.387328   0.762659   \n",
       "\n",
       "           min  floor_mean  floor_max  floor_min  ceiling_mean  ceiling_max  \\\n",
       "1342  0.166677    0.487452   1.074033   0.166677      2.992362     4.703960   \n",
       "1343  0.101973    0.323746   0.614770   0.101973      0.738071     0.786997   \n",
       "1344  0.362600    0.823587   1.120810   0.362600      0.937550     1.221873   \n",
       "1345  0.064699   24.857904  64.123596   0.064699     24.988999    64.266820   \n",
       "1346  0.166426    0.349720   0.730373   0.205136      0.424936     0.762659   \n",
       "\n",
       "      ceiling_min  \n",
       "1342     1.216172  \n",
       "1343     0.670290  \n",
       "1344     0.490739  \n",
       "1345     0.074356  \n",
       "1346     0.166426  "
      ]
     },
     "execution_count": 6,
     "metadata": {},
     "output_type": "execute_result"
    }
   ],
   "source": [
    "df.tail()"
   ]
  },
  {
   "cell_type": "code",
   "execution_count": 7,
   "metadata": {},
   "outputs": [
    {
     "name": "stdout",
     "output_type": "stream",
     "text": [
      "<class 'pandas.core.frame.DataFrame'>\n",
      "Int64Index: 1347 entries, 0 to 1346\n",
      "Data columns (total 12 columns):\n",
      " #   Column        Non-Null Count  Dtype  \n",
      "---  ------        --------------  -----  \n",
      " 0   name          1347 non-null   object \n",
      " 1   gt_corners    1347 non-null   int64  \n",
      " 2   rb_corners    1347 non-null   int64  \n",
      " 3   mean          1347 non-null   float64\n",
      " 4   max           1347 non-null   float64\n",
      " 5   min           1347 non-null   float64\n",
      " 6   floor_mean    1347 non-null   float64\n",
      " 7   floor_max     1347 non-null   float64\n",
      " 8   floor_min     1347 non-null   float64\n",
      " 9   ceiling_mean  1347 non-null   float64\n",
      " 10  ceiling_max   1347 non-null   float64\n",
      " 11  ceiling_min   1347 non-null   float64\n",
      "dtypes: float64(9), int64(2), object(1)\n",
      "memory usage: 136.8+ KB\n"
     ]
    }
   ],
   "source": [
    "df.info()"
   ]
  },
  {
   "cell_type": "code",
   "execution_count": 8,
   "metadata": {
    "scrolled": true
   },
   "outputs": [
    {
     "data": {
      "text/html": [
       "<div>\n",
       "<style scoped>\n",
       "    .dataframe tbody tr th:only-of-type {\n",
       "        vertical-align: middle;\n",
       "    }\n",
       "\n",
       "    .dataframe tbody tr th {\n",
       "        vertical-align: top;\n",
       "    }\n",
       "\n",
       "    .dataframe thead th {\n",
       "        text-align: right;\n",
       "    }\n",
       "</style>\n",
       "<table border=\"1\" class=\"dataframe\">\n",
       "  <thead>\n",
       "    <tr style=\"text-align: right;\">\n",
       "      <th></th>\n",
       "      <th>gt_corners</th>\n",
       "      <th>rb_corners</th>\n",
       "      <th>mean</th>\n",
       "      <th>max</th>\n",
       "      <th>min</th>\n",
       "      <th>floor_mean</th>\n",
       "      <th>floor_max</th>\n",
       "      <th>floor_min</th>\n",
       "      <th>ceiling_mean</th>\n",
       "      <th>ceiling_max</th>\n",
       "      <th>ceiling_min</th>\n",
       "    </tr>\n",
       "  </thead>\n",
       "  <tbody>\n",
       "    <tr>\n",
       "      <th>count</th>\n",
       "      <td>1347.000000</td>\n",
       "      <td>1347.000000</td>\n",
       "      <td>1347.000000</td>\n",
       "      <td>1347.000000</td>\n",
       "      <td>1347.000000</td>\n",
       "      <td>1347.000000</td>\n",
       "      <td>1347.000000</td>\n",
       "      <td>1347.000000</td>\n",
       "      <td>1347.000000</td>\n",
       "      <td>1347.000000</td>\n",
       "      <td>1347.000000</td>\n",
       "    </tr>\n",
       "    <tr>\n",
       "      <th>mean</th>\n",
       "      <td>4.307350</td>\n",
       "      <td>4.307350</td>\n",
       "      <td>12.895320</td>\n",
       "      <td>25.448011</td>\n",
       "      <td>2.920388</td>\n",
       "      <td>11.022443</td>\n",
       "      <td>20.405499</td>\n",
       "      <td>3.146246</td>\n",
       "      <td>14.768198</td>\n",
       "      <td>24.848020</td>\n",
       "      <td>5.521437</td>\n",
       "    </tr>\n",
       "    <tr>\n",
       "      <th>std</th>\n",
       "      <td>0.814412</td>\n",
       "      <td>0.814412</td>\n",
       "      <td>21.839948</td>\n",
       "      <td>42.758159</td>\n",
       "      <td>9.258972</td>\n",
       "      <td>19.136320</td>\n",
       "      <td>33.189081</td>\n",
       "      <td>9.559611</td>\n",
       "      <td>26.047057</td>\n",
       "      <td>42.345579</td>\n",
       "      <td>14.460565</td>\n",
       "    </tr>\n",
       "    <tr>\n",
       "      <th>min</th>\n",
       "      <td>4.000000</td>\n",
       "      <td>4.000000</td>\n",
       "      <td>0.192973</td>\n",
       "      <td>0.323886</td>\n",
       "      <td>0.007456</td>\n",
       "      <td>0.134686</td>\n",
       "      <td>0.178059</td>\n",
       "      <td>0.007456</td>\n",
       "      <td>0.123169</td>\n",
       "      <td>0.220846</td>\n",
       "      <td>0.009268</td>\n",
       "    </tr>\n",
       "    <tr>\n",
       "      <th>25%</th>\n",
       "      <td>4.000000</td>\n",
       "      <td>4.000000</td>\n",
       "      <td>0.658488</td>\n",
       "      <td>1.243804</td>\n",
       "      <td>0.147432</td>\n",
       "      <td>0.514150</td>\n",
       "      <td>0.888043</td>\n",
       "      <td>0.164668</td>\n",
       "      <td>0.742915</td>\n",
       "      <td>1.180960</td>\n",
       "      <td>0.306071</td>\n",
       "    </tr>\n",
       "    <tr>\n",
       "      <th>50%</th>\n",
       "      <td>4.000000</td>\n",
       "      <td>4.000000</td>\n",
       "      <td>2.123456</td>\n",
       "      <td>4.703514</td>\n",
       "      <td>0.279876</td>\n",
       "      <td>1.932503</td>\n",
       "      <td>4.008014</td>\n",
       "      <td>0.304374</td>\n",
       "      <td>2.159995</td>\n",
       "      <td>3.777277</td>\n",
       "      <td>0.600597</td>\n",
       "    </tr>\n",
       "    <tr>\n",
       "      <th>75%</th>\n",
       "      <td>4.000000</td>\n",
       "      <td>4.000000</td>\n",
       "      <td>14.810982</td>\n",
       "      <td>28.312051</td>\n",
       "      <td>0.674444</td>\n",
       "      <td>13.430288</td>\n",
       "      <td>24.986504</td>\n",
       "      <td>0.801416</td>\n",
       "      <td>15.150233</td>\n",
       "      <td>27.551533</td>\n",
       "      <td>1.840563</td>\n",
       "    </tr>\n",
       "    <tr>\n",
       "      <th>max</th>\n",
       "      <td>10.000000</td>\n",
       "      <td>10.000000</td>\n",
       "      <td>121.301055</td>\n",
       "      <td>179.165483</td>\n",
       "      <td>81.764483</td>\n",
       "      <td>121.244083</td>\n",
       "      <td>177.961811</td>\n",
       "      <td>81.791505</td>\n",
       "      <td>157.387474</td>\n",
       "      <td>179.165483</td>\n",
       "      <td>144.472533</td>\n",
       "    </tr>\n",
       "  </tbody>\n",
       "</table>\n",
       "</div>"
      ],
      "text/plain": [
       "        gt_corners   rb_corners         mean          max          min  \\\n",
       "count  1347.000000  1347.000000  1347.000000  1347.000000  1347.000000   \n",
       "mean      4.307350     4.307350    12.895320    25.448011     2.920388   \n",
       "std       0.814412     0.814412    21.839948    42.758159     9.258972   \n",
       "min       4.000000     4.000000     0.192973     0.323886     0.007456   \n",
       "25%       4.000000     4.000000     0.658488     1.243804     0.147432   \n",
       "50%       4.000000     4.000000     2.123456     4.703514     0.279876   \n",
       "75%       4.000000     4.000000    14.810982    28.312051     0.674444   \n",
       "max      10.000000    10.000000   121.301055   179.165483    81.764483   \n",
       "\n",
       "        floor_mean    floor_max    floor_min  ceiling_mean  ceiling_max  \\\n",
       "count  1347.000000  1347.000000  1347.000000   1347.000000  1347.000000   \n",
       "mean     11.022443    20.405499     3.146246     14.768198    24.848020   \n",
       "std      19.136320    33.189081     9.559611     26.047057    42.345579   \n",
       "min       0.134686     0.178059     0.007456      0.123169     0.220846   \n",
       "25%       0.514150     0.888043     0.164668      0.742915     1.180960   \n",
       "50%       1.932503     4.008014     0.304374      2.159995     3.777277   \n",
       "75%      13.430288    24.986504     0.801416     15.150233    27.551533   \n",
       "max     121.244083   177.961811    81.791505    157.387474   179.165483   \n",
       "\n",
       "       ceiling_min  \n",
       "count  1347.000000  \n",
       "mean      5.521437  \n",
       "std      14.460565  \n",
       "min       0.009268  \n",
       "25%       0.306071  \n",
       "50%       0.600597  \n",
       "75%       1.840563  \n",
       "max     144.472533  "
      ]
     },
     "execution_count": 8,
     "metadata": {},
     "output_type": "execute_result"
    }
   ],
   "source": [
    "df.describe()"
   ]
  },
  {
   "cell_type": "markdown",
   "metadata": {},
   "source": [
    "1. We can compare the number of ground truth corners (Gt_corners) to the number of corners found by the model (Rb_corners). In this case, we see that the model was able to correctly identify the number of corners in each room, as the counts for Gt_corners and Rb_corners are the same in every row of the table and the total amount equals to 1347 as it is. \n",
    "2. The mean values for both \"gt_corners\" and \"rb_corners\" are 4.307350, which indicates that on average, there are 4 corners in the room and the model is able to detect those corners accurately.\n",
    "3. The maximum value for \"rb_corners\" is 10, which means that the model is able to detect up to 10 corners in a room.\n",
    "4. The standard deviation for \"rb_corners\" is relatively high at 0.814412, which suggests that there is significant variation in the number of corners detected by the model across different rooms.\n",
    "5. The mean value for \"mean\" is 12.895320, which indicates that the model tends to slightly overestimate the number of corners in a room on average.\n",
    "6. The maximum value for \"mean\" is 121.301055, which suggests that there are some instances where the model greatly overestimates the number of corners in a room.\n",
    "7. The minimum value for \"min\" is very low at 0.007456, which indicates that the model is generally able to accurately detect rooms with very few corners.\n",
    "Overall, it seems that the model performs reasonably well in detecting the number of corners in a room."
   ]
  },
  {
   "cell_type": "code",
   "execution_count": 9,
   "metadata": {
    "scrolled": true
   },
   "outputs": [
    {
     "name": "stdout",
     "output_type": "stream",
     "text": [
      "              gt_corners  rb_corners      mean       max       min  \\\n",
      "gt_corners      1.000000    1.000000  0.130753  0.183241  0.005158   \n",
      "rb_corners      1.000000    1.000000  0.130753  0.183241  0.005158   \n",
      "mean            0.130753    0.130753  1.000000  0.945928  0.672207   \n",
      "max             0.183241    0.183241  0.945928  1.000000  0.489443   \n",
      "min             0.005158    0.005158  0.672207  0.489443  1.000000   \n",
      "floor_mean      0.154939    0.154939  0.954501  0.852427  0.745491   \n",
      "floor_max       0.229922    0.229922  0.942309  0.911243  0.578652   \n",
      "floor_min       0.000692    0.000692  0.678960  0.498912  0.973961   \n",
      "ceiling_mean    0.105436    0.105436  0.975705  0.960021  0.579565   \n",
      "ceiling_max     0.184563    0.184563  0.940502  0.996956  0.481758   \n",
      "ceiling_min    -0.010457   -0.010457  0.786345  0.648461  0.687748   \n",
      "\n",
      "              floor_mean  floor_max  floor_min  ceiling_mean  ceiling_max  \\\n",
      "gt_corners      0.154939   0.229922   0.000692      0.105436     0.184563   \n",
      "rb_corners      0.154939   0.229922   0.000692      0.105436     0.184563   \n",
      "mean            0.954501   0.942309   0.678960      0.975705     0.940502   \n",
      "max             0.852427   0.911243   0.498912      0.960021     0.996956   \n",
      "min             0.745491   0.578652   0.973961      0.579565     0.481758   \n",
      "floor_mean      1.000000   0.951630   0.760528      0.865979     0.840623   \n",
      "floor_max       0.951630   1.000000   0.586213      0.881070     0.901493   \n",
      "floor_min       0.760528   0.586213   1.000000      0.579843     0.486769   \n",
      "ceiling_mean    0.865979   0.881070   0.579843      1.000000     0.959593   \n",
      "ceiling_max     0.840623   0.901493   0.486769      0.959593     1.000000   \n",
      "ceiling_min     0.708154   0.638558   0.665330      0.798401     0.641113   \n",
      "\n",
      "              ceiling_min  \n",
      "gt_corners      -0.010457  \n",
      "rb_corners      -0.010457  \n",
      "mean             0.786345  \n",
      "max              0.648461  \n",
      "min              0.687748  \n",
      "floor_mean       0.708154  \n",
      "floor_max        0.638558  \n",
      "floor_min        0.665330  \n",
      "ceiling_mean     0.798401  \n",
      "ceiling_max      0.641113  \n",
      "ceiling_min      1.000000  \n"
     ]
    }
   ],
   "source": [
    "corr_matrix = df.corr()\n",
    "print(corr_matrix)"
   ]
  },
  {
   "cell_type": "markdown",
   "metadata": {},
   "source": [
    "The diagonal values in the matrix are all 1, indicating a perfect correlation between a variable and itself.<br>\n",
    "The correlation coefficient between ground truth number of corners and number of corners found by the model is 1, indicating a perfect positive correlation. This suggests that the model performed very well in detecting the corners in the room.<br>\n",
    "**The highest correlation** between any two variables other than the perfect correlation between a variable and itself is between mean and ceiling_mean, with a coefficient of **0.975705**. This suggests a very strong positive correlation between these two variables.<br>\n",
    "**The lowest correlation** between any two variables is between ground truth number of corners and ceiling_min, with a coefficient of **-0.010457**. This suggests a weak negative correlation between these two variables."
   ]
  },
  {
   "cell_type": "code",
   "execution_count": 10,
   "metadata": {},
   "outputs": [
    {
     "data": {
      "image/png": "[encoded data removed]",
      "text/plain": [
       "<Figure size 432x288 with 1 Axes>"
      ]
     },
     "metadata": {
      "needs_background": "light"
     },
     "output_type": "display_data"
    }
   ],
   "source": [
    "df.boxplot(column=['mean', 'max', 'min'])\n",
    "plt.show()"
   ]
  },
  {
   "cell_type": "code",
   "execution_count": 19,
   "metadata": {},
   "outputs": [
    {
     "data": {
      "image/png": "[encoded data removed]",
      "text/plain": [
       "<Figure size 576x432 with 1 Axes>"
      ]
     },
     "metadata": {
      "needs_background": "light"
     },
     "output_type": "display_data"
    },
    {
     "data": {
      "image/png": "[encoded data removed]",
      "text/plain": [
       "<Figure size 576x432 with 1 Axes>"
      ]
     },
     "metadata": {
      "needs_background": "light"
     },
     "output_type": "display_data"
    },
    {
     "data": {
      "image/png": "[encoded data removed]",
      "text/plain": [
       "<Figure size 576x432 with 1 Axes>"
      ]
     },
     "metadata": {
      "needs_background": "light"
     },
     "output_type": "display_data"
    },
    {
     "data": {
      "image/png": "[encoded data removed]",
      "text/plain": [
       "<Figure size 576x432 with 1 Axes>"
      ]
     },
     "metadata": {
      "needs_background": "light"
     },
     "output_type": "display_data"
    },
    {
     "data": {
      "image/png": "[encoded data removed]",
      "text/plain": [
       "<Figure size 432x288 with 1 Axes>"
      ]
     },
     "metadata": {
      "needs_background": "light"
     },
     "output_type": "display_data"
    },
    {
     "data": {
      "image/png": "[encoded data removed]",
      "text/plain": [
       "<Figure size 432x288 with 1 Axes>"
      ]
     },
     "metadata": {
      "needs_background": "light"
     },
     "output_type": "display_data"
    },
    {
     "data": {
      "image/png": "[encoded data removed]",
      "text/plain": [
       "<Figure size 432x288 with 1 Axes>"
      ]
     },
     "metadata": {
      "needs_background": "light"
     },
     "output_type": "display_data"
    },
    {
     "data": {
      "image/png": "[encoded data removed]",
      "text/plain": [
       "<Figure size 432x288 with 1 Axes>"
      ]
     },
     "metadata": {
      "needs_background": "light"
     },
     "output_type": "display_data"
    }
   ],
   "source": [
    "from plotter import Plotting\n",
    "\n",
    "# Create an instance of the Plotter class\n",
    "plotter = Plotting()\n",
    "\n",
    "# Call the draw_plots() function and store the paths to the generated plots\n",
    "plot_paths = plotter.draw_plots(df)\n",
    "\n",
    "# Display the plots in the notebook\n",
    "for path in plot_paths:\n",
    "    plt.figure()\n",
    "    plt.imshow(plt.imread(path))\n",
    "    plt.axis('off')\n",
    "    plt.show()\n"
   ]
  },
  {
   "cell_type": "code",
   "execution_count": 13,
   "metadata": {},
   "outputs": [
    {
     "data": {
      "text/html": [
       "<div>\n",
       "<style scoped>\n",
       "    .dataframe tbody tr th:only-of-type {\n",
       "        vertical-align: middle;\n",
       "    }\n",
       "\n",
       "    .dataframe tbody tr th {\n",
       "        vertical-align: top;\n",
       "    }\n",
       "\n",
       "    .dataframe thead th {\n",
       "        text-align: right;\n",
       "    }\n",
       "</style>\n",
       "<table border=\"1\" class=\"dataframe\">\n",
       "  <thead>\n",
       "    <tr style=\"text-align: right;\">\n",
       "      <th></th>\n",
       "      <th>name</th>\n",
       "      <th>gt_corners</th>\n",
       "      <th>rb_corners</th>\n",
       "      <th>mean</th>\n",
       "      <th>max</th>\n",
       "      <th>min</th>\n",
       "      <th>floor_mean</th>\n",
       "      <th>floor_max</th>\n",
       "      <th>floor_min</th>\n",
       "      <th>ceiling_mean</th>\n",
       "      <th>ceiling_max</th>\n",
       "      <th>ceiling_min</th>\n",
       "    </tr>\n",
       "  </thead>\n",
       "  <tbody>\n",
       "    <tr>\n",
       "      <th>0</th>\n",
       "      <td>Schlafzimmer</td>\n",
       "      <td>4</td>\n",
       "      <td>4</td>\n",
       "      <td>3.956313</td>\n",
       "      <td>8.562939</td>\n",
       "      <td>0.274574</td>\n",
       "      <td>3.987864</td>\n",
       "      <td>8.562939</td>\n",
       "      <td>0.274574</td>\n",
       "      <td>3.924762</td>\n",
       "      <td>8.501885</td>\n",
       "      <td>0.331494</td>\n",
       "    </tr>\n",
       "    <tr>\n",
       "      <th>1</th>\n",
       "      <td>Küche</td>\n",
       "      <td>4</td>\n",
       "      <td>4</td>\n",
       "      <td>23.019122</td>\n",
       "      <td>52.605437</td>\n",
       "      <td>0.724299</td>\n",
       "      <td>1.253103</td>\n",
       "      <td>1.897612</td>\n",
       "      <td>0.724299</td>\n",
       "      <td>44.785141</td>\n",
       "      <td>52.605437</td>\n",
       "      <td>36.880814</td>\n",
       "    </tr>\n",
       "    <tr>\n",
       "      <th>2</th>\n",
       "      <td>Bathroom</td>\n",
       "      <td>4</td>\n",
       "      <td>4</td>\n",
       "      <td>1.013833</td>\n",
       "      <td>1.950322</td>\n",
       "      <td>0.301673</td>\n",
       "      <td>0.659138</td>\n",
       "      <td>1.318714</td>\n",
       "      <td>0.301673</td>\n",
       "      <td>1.368528</td>\n",
       "      <td>1.950322</td>\n",
       "      <td>0.878106</td>\n",
       "    </tr>\n",
       "    <tr>\n",
       "      <th>3</th>\n",
       "      <td>Lounge/Diner</td>\n",
       "      <td>8</td>\n",
       "      <td>8</td>\n",
       "      <td>3.832620</td>\n",
       "      <td>18.236935</td>\n",
       "      <td>0.173307</td>\n",
       "      <td>3.600083</td>\n",
       "      <td>15.041431</td>\n",
       "      <td>0.173307</td>\n",
       "      <td>4.065157</td>\n",
       "      <td>18.236935</td>\n",
       "      <td>0.253457</td>\n",
       "    </tr>\n",
       "    <tr>\n",
       "      <th>4</th>\n",
       "      <td>Essbereich</td>\n",
       "      <td>4</td>\n",
       "      <td>4</td>\n",
       "      <td>8.017758</td>\n",
       "      <td>15.642853</td>\n",
       "      <td>0.762948</td>\n",
       "      <td>7.819446</td>\n",
       "      <td>15.399635</td>\n",
       "      <td>0.762948</td>\n",
       "      <td>8.216069</td>\n",
       "      <td>15.642853</td>\n",
       "      <td>0.909029</td>\n",
       "    </tr>\n",
       "    <tr>\n",
       "      <th>5</th>\n",
       "      <td>Wohnzimmer</td>\n",
       "      <td>4</td>\n",
       "      <td>4</td>\n",
       "      <td>18.201964</td>\n",
       "      <td>30.170499</td>\n",
       "      <td>9.929660</td>\n",
       "      <td>18.091045</td>\n",
       "      <td>28.885998</td>\n",
       "      <td>9.929660</td>\n",
       "      <td>18.312884</td>\n",
       "      <td>30.170499</td>\n",
       "      <td>9.932862</td>\n",
       "    </tr>\n",
       "    <tr>\n",
       "      <th>6</th>\n",
       "      <td>Büro</td>\n",
       "      <td>6</td>\n",
       "      <td>6</td>\n",
       "      <td>4.155999</td>\n",
       "      <td>6.492000</td>\n",
       "      <td>0.338442</td>\n",
       "      <td>4.036335</td>\n",
       "      <td>6.347297</td>\n",
       "      <td>0.338442</td>\n",
       "      <td>4.275663</td>\n",
       "      <td>6.492000</td>\n",
       "      <td>0.436603</td>\n",
       "    </tr>\n",
       "    <tr>\n",
       "      <th>7</th>\n",
       "      <td>Flur</td>\n",
       "      <td>6</td>\n",
       "      <td>6</td>\n",
       "      <td>0.728829</td>\n",
       "      <td>1.781801</td>\n",
       "      <td>0.210813</td>\n",
       "      <td>0.695057</td>\n",
       "      <td>1.756475</td>\n",
       "      <td>0.210813</td>\n",
       "      <td>0.762602</td>\n",
       "      <td>1.781801</td>\n",
       "      <td>0.240982</td>\n",
       "    </tr>\n",
       "    <tr>\n",
       "      <th>8</th>\n",
       "      <td>Flur</td>\n",
       "      <td>4</td>\n",
       "      <td>4</td>\n",
       "      <td>15.445758</td>\n",
       "      <td>55.451122</td>\n",
       "      <td>0.034334</td>\n",
       "      <td>0.363172</td>\n",
       "      <td>0.655042</td>\n",
       "      <td>0.034334</td>\n",
       "      <td>30.528344</td>\n",
       "      <td>55.451122</td>\n",
       "      <td>11.313012</td>\n",
       "    </tr>\n",
       "    <tr>\n",
       "      <th>9</th>\n",
       "      <td>Eingangsbereich</td>\n",
       "      <td>4</td>\n",
       "      <td>4</td>\n",
       "      <td>19.379779</td>\n",
       "      <td>41.845995</td>\n",
       "      <td>0.179151</td>\n",
       "      <td>0.759095</td>\n",
       "      <td>1.373219</td>\n",
       "      <td>0.179151</td>\n",
       "      <td>38.000463</td>\n",
       "      <td>41.845995</td>\n",
       "      <td>33.773640</td>\n",
       "    </tr>\n",
       "  </tbody>\n",
       "</table>\n",
       "</div>"
      ],
      "text/plain": [
       "              name  gt_corners  rb_corners       mean        max       min  \\\n",
       "0     Schlafzimmer           4           4   3.956313   8.562939  0.274574   \n",
       "1            Küche           4           4  23.019122  52.605437  0.724299   \n",
       "2         Bathroom           4           4   1.013833   1.950322  0.301673   \n",
       "3     Lounge/Diner           8           8   3.832620  18.236935  0.173307   \n",
       "4       Essbereich           4           4   8.017758  15.642853  0.762948   \n",
       "5       Wohnzimmer           4           4  18.201964  30.170499  9.929660   \n",
       "6             Büro           6           6   4.155999   6.492000  0.338442   \n",
       "7             Flur           6           6   0.728829   1.781801  0.210813   \n",
       "8             Flur           4           4  15.445758  55.451122  0.034334   \n",
       "9  Eingangsbereich           4           4  19.379779  41.845995  0.179151   \n",
       "\n",
       "   floor_mean  floor_max  floor_min  ceiling_mean  ceiling_max  ceiling_min  \n",
       "0    3.987864   8.562939   0.274574      3.924762     8.501885     0.331494  \n",
       "1    1.253103   1.897612   0.724299     44.785141    52.605437    36.880814  \n",
       "2    0.659138   1.318714   0.301673      1.368528     1.950322     0.878106  \n",
       "3    3.600083  15.041431   0.173307      4.065157    18.236935     0.253457  \n",
       "4    7.819446  15.399635   0.762948      8.216069    15.642853     0.909029  \n",
       "5   18.091045  28.885998   9.929660     18.312884    30.170499     9.932862  \n",
       "6    4.036335   6.347297   0.338442      4.275663     6.492000     0.436603  \n",
       "7    0.695057   1.756475   0.210813      0.762602     1.781801     0.240982  \n",
       "8    0.363172   0.655042   0.034334     30.528344    55.451122    11.313012  \n",
       "9    0.759095   1.373219   0.179151     38.000463    41.845995    33.773640  "
      ]
     },
     "execution_count": 13,
     "metadata": {},
     "output_type": "execute_result"
    }
   ],
   "source": [
    "df.head(10)"
   ]
  },
  {
   "cell_type": "code",
   "execution_count": 14,
   "metadata": {},
   "outputs": [
    {
     "data": {
      "text/plain": [
       "Master Bedroom              42\n",
       "Dining room                 36\n",
       "Bathroom                    36\n",
       "Bedroom 2                   31\n",
       "Hallway                     31\n",
       "                            ..\n",
       "First Floor 9                1\n",
       "Lower front left bedroom     1\n",
       "Bathroom Jack Jill  3        1\n",
       "1206B                        1\n",
       "Basement #5 Dining room      1\n",
       "Name: name, Length: 588, dtype: int64"
      ]
     },
     "execution_count": 14,
     "metadata": {},
     "output_type": "execute_result"
    }
   ],
   "source": [
    "df['name'].value_counts()"
   ]
  },
  {
   "cell_type": "code",
   "execution_count": 15,
   "metadata": {},
   "outputs": [
    {
     "name": "stdout",
     "output_type": "stream",
     "text": [
      "Mean deviation in degrees: 12.90\n",
      "std_deviation results are:\n",
      "mean    21.831840\n",
      "max     42.742285\n",
      "min      9.255534\n",
      "dtype: float64\n",
      "Mean deviation between floor_mean and ceiling_mean: 4.24\n"
     ]
    }
   ],
   "source": [
    "# Calculate mean deviation in degrees\n",
    "mean_deviation = np.mean(abs(df['mean']))\n",
    "\n",
    "# Calculate standard deviation of deviation values\n",
    "std_deviation = np.std(df[['mean', 'max', 'min']])\n",
    "\n",
    "# Calculate mean deviation between floor_mean and ceiling_mean\n",
    "floor_ceiling_deviation = np.mean(abs(df['floor_mean'] - df['ceiling_mean']))\n",
    "\n",
    "print(f\"Mean deviation in degrees: {mean_deviation:.2f}\")\n",
    "print(\"std_deviation results are:\")\n",
    "print(std_deviation)\n",
    "print(f\"Mean deviation between floor_mean and ceiling_mean: {floor_ceiling_deviation:.2f}\")"
   ]
  },
  {
   "cell_type": "markdown",
   "metadata": {},
   "source": [
    "The results provided suggest that the average deviation between the measured angles and the mean angle is 12.90 degrees.<br>\n",
    "\n",
    "The std_deviation results show the statistical properties of the deviation values. The mean deviation is 21.83 degrees, indicating that the deviations from the mean angle are quite spread out. The maximum deviation is 42.74 degrees, which is a large deviation and indicates that some of the measured angles differ significantly from the mean angle. The minimum deviation is 9.26 degrees, which is relatively small, indicating that some of the measured angles are very close to the mean angle.<br>\n",
    "\n",
    "The mean deviation between the floor_mean and ceiling_mean is 4.24 degrees, which suggests that the difference between the average angles of the floor and ceiling is relatively small.<br>"
   ]
  },
  {
   "cell_type": "code",
   "execution_count": 16,
   "metadata": {},
   "outputs": [
    {
     "name": "stdout",
     "output_type": "stream",
     "text": [
      "Mean deviation in degrees: 4.24\n",
      "Standard deviation of deviation values: 13.32\n"
     ]
    }
   ],
   "source": [
    "df['deviation_degrees'] = np.abs(df['floor_mean'] - df['ceiling_mean'])\n",
    "\n",
    "# calculate mean deviation in degrees\n",
    "mean_deviation = np.mean(df['deviation_degrees'])\n",
    "print(f\"Mean deviation in degrees: {mean_deviation:.2f}\")\n",
    "\n",
    "# calculate standard deviation of deviation values\n",
    "std_deviation = np.std(df['deviation_degrees'])\n",
    "print(f\"Standard deviation of deviation values: {std_deviation:.2f}\")\n"
   ]
  },
  {
   "cell_type": "code",
   "execution_count": 17,
   "metadata": {},
   "outputs": [
    {
     "name": "stdout",
     "output_type": "stream",
     "text": [
      "RMSE:  0.0\n",
      "MAE:  0.0\n",
      "R-squared:  1.0\n",
      "Confusion Matrix: \n",
      " [[1163    0    0    0]\n",
      " [   0  162    0    0]\n",
      " [   0    0   21    0]\n",
      " [   0    0    0    1]]\n",
      "Classification Report: \n",
      "               precision    recall  f1-score   support\n",
      "\n",
      "           4       1.00      1.00      1.00      1163\n",
      "           6       1.00      1.00      1.00       162\n",
      "           8       1.00      1.00      1.00        21\n",
      "          10       1.00      1.00      1.00         1\n",
      "\n",
      "    accuracy                           1.00      1347\n",
      "   macro avg       1.00      1.00      1.00      1347\n",
      "weighted avg       1.00      1.00      1.00      1347\n",
      "\n"
     ]
    }
   ],
   "source": [
    "from sklearn.metrics import mean_squared_error, mean_absolute_error, r2_score, confusion_matrix, classification_report\n",
    "# Calculate RMSE\n",
    "rmse = np.sqrt(mean_squared_error(df[\"gt_corners\"], df[\"rb_corners\"]))\n",
    "\n",
    "# Calculate MAE\n",
    "mae = mean_absolute_error(df[\"gt_corners\"], df[\"rb_corners\"])\n",
    "\n",
    "# Calculate R-squared score\n",
    "r2 = r2_score(df[\"gt_corners\"], df[\"rb_corners\"])\n",
    "\n",
    "# Calculate confusion matrix\n",
    "cm = confusion_matrix(df[\"gt_corners\"], df[\"rb_corners\"])\n",
    "\n",
    "# Calculate precision, recall, and F1-score\n",
    "cr = classification_report(df[\"gt_corners\"], df[\"rb_corners\"])\n",
    "\n",
    "print(\"RMSE: \", rmse)\n",
    "print(\"MAE: \", mae)\n",
    "print(\"R-squared: \", r2)\n",
    "print(\"Confusion Matrix: \\n\", cm)\n",
    "print(\"Classification Report: \\n\", cr)"
   ]
  },
  {
   "cell_type": "markdown",
   "metadata": {},
   "source": [
    "Based on the provided results, it seems that model is performing very well on the dataset you used for evaluation. Here's what each of the metrics mean:<br>\n",
    "\n",
    "**RMSE (Root Mean Squared Error)**: This is a measure of the average difference between the predicted values and the actual values. In our case, an RMSE of 0.0 indicates that the predicted values match the actual values exactly.<br>\n",
    "\n",
    "**MAE (Mean Absolute Error)**: This is a measure of the average absolute difference between the predicted values and the actual values. In our case, an MAE of 0.0 indicates that the predicted values match the actual values exactly.<br>\n",
    "\n",
    "**R-squared**: This is a measure of how well the model fits the data. An R-squared value of 1.0 indicates a perfect fit, meaning that all of the variance in the data is explained by the model.<br>\n",
    "\n",
    "**Confusion matrix**: This is a table that shows the number of true positives, true negatives, false positives, and false negatives for each class in this classification problem. In our case, the confusion matrix shows that the model correctly classified all of the samples in the dataset.<br>\n",
    "\n",
    "**Classification report**: This provides precision, recall, and F1-score for each class in this classification problem, as well as overall metrics such as accuracy, macro-average, and weighted-average precision, recall, and F1-score. In our case, the precision, recall, and F1-score are all 1.0, indicating perfect performance on all classes. The overall accuracy is also 1.0, which means that all of the samples were classified correctly."
   ]
  },
  {
   "cell_type": "code",
   "execution_count": 18,
   "metadata": {},
   "outputs": [
    {
     "data": {
      "image/png": "[encoded data removed]",
      "text/plain": [
       "<Figure size 432x288 with 1 Axes>"
      ]
     },
     "metadata": {
      "needs_background": "light"
     },
     "output_type": "display_data"
    }
   ],
   "source": [
    "\n",
    "# Histogram\n",
    "plt.hist([df[\"gt_corners\"], df[\"rb_corners\"]], bins=range(15), label=['Ground Truth', 'Predicted'])\n",
    "plt.xlabel('Number of corners')\n",
    "plt.ylabel('Frequency')\n",
    "plt.legend()\n",
    "plt.show()"
   ]
  },
  {
   "cell_type": "markdown",
   "metadata": {},
   "source": [
    "In conclusion, the prediction model for detecting the number of corners in a room performed very well on the dataset used for evaluation. The model was able to accurately detect the number of corners in each room with a mean value of 4.307350 and a maximum value of 10. The correlation coefficient between ground truth number of corners and number of corners found by the model is 1, indicating a perfect positive correlation. Additionally, the model had an RMSE and MAE of 0.0 and an R-squared value of 1.0, indicating a perfect fit to the data. The confusion matrix and classification report show that the model correctly classified all of the samples in the dataset with perfect precision, recall, and F1-score, as well as overall accuracy. Overall, the statistical evidences suggest that the model is a reliable and accurate tool for detecting the number of corners in a room."
   ]
  },
  {
   "cell_type": "code",
   "execution_count": null,
   "metadata": {},
   "outputs": [],
   "source": []
  },
  {
   "cell_type": "code",
   "execution_count": null,
   "metadata": {},
   "outputs": [],
   "source": []
  }
 ],
 "metadata": {
  "kernelspec": {
   "display_name": "Python 3",
   "language": "python",
   "name": "python3"
  },
  "language_info": {
   "codemirror_mode": {
    "name": "ipython",
    "version": 3
   },
   "file_extension": ".py",
   "mimetype": "text/x-python",
   "name": "python",
   "nbconvert_exporter": "python",
   "pygments_lexer": "ipython3",
   "version": "3.7.6"
  }
 },
 "nbformat": 4,
 "nbformat_minor": 4
}
